{
  "cells": [
    {
      "cell_type": "markdown",
      "id": "56cfaec2",
      "metadata": {},
      "source": [
        "# Computer Performance analysis\n",
        "\n",
        "Dataset is obtained from [here](https://archive.ics.uci.edu/dataset/29/computer+hardware).\n",
        "\n",
        "Import modules and packages "
      ]
    },
    {
      "cell_type": "code",
      "execution_count": null,
      "id": "3b8136de",
      "metadata": {},
      "outputs": [],
      "source": [
        "import pandas as pd \n",
        "import numpy as np \n",
        "import matplotlib.pyplot as plt \n",
        "import seaborn as sns \n",
        "from sklearn.model_selection import train_test_split \n",
        "from sklearn.linear_model import LinearRegression \n",
        "from sklearn.metrics import mean_squared_error, mean_absolute_error \n",
        "from sklearn import preprocessing "
      ]
    },
    {
      "cell_type": "markdown",
      "id": "bc641ad6",
      "metadata": {},
      "source": [
        "Read the data"
      ]
    },
    {
      "cell_type": "code",
      "execution_count": null,
      "id": "0b97d8f8",
      "metadata": {},
      "outputs": [],
      "source": [
        "df = pd.read_csv('data/machine.csv')"
      ]
    },
    {
      "cell_type": "markdown",
      "id": "3f5d5266",
      "metadata": {},
      "source": [
        "Exercise: Change the index to reference the Make and Model and remove them as possible features"
      ]
    },
    {
      "cell_type": "markdown",
      "id": "4439455e",
      "metadata": {},
      "source": [
        "Create feature matrix X and target vector y "
      ]
    },
    {
      "cell_type": "code",
      "execution_count": null,
      "id": "07eb816d",
      "metadata": {},
      "outputs": [],
      "source": [
        "X = df.drop(['Make','Model','ActualIndex'],axis= 1) \n",
        "y = df['ActualIndex'] "
      ]
    },
    {
      "cell_type": "markdown",
      "id": "9d37c4bb",
      "metadata": {},
      "source": [
        "Exercise: Investigate the dataset using EDA techniques"
      ]
    },
    {
      "cell_type": "markdown",
      "id": "b164bd3c",
      "metadata": {},
      "source": [
        "Create train and test sets "
      ]
    },
    {
      "cell_type": "code",
      "execution_count": null,
      "id": "960b57b2",
      "metadata": {},
      "outputs": [],
      "source": [
        "X_train, X_test, y_train, y_test = train_test_split(X, y, test_size=0.3, random_state=42) "
      ]
    },
    {
      "cell_type": "markdown",
      "id": "bd3e3af3",
      "metadata": {},
      "source": [
        "Create a regression model "
      ]
    },
    {
      "cell_type": "code",
      "execution_count": null,
      "id": "ab92e3c9",
      "metadata": {},
      "outputs": [],
      "source": [
        "model = LinearRegression()"
      ]
    },
    {
      "cell_type": "markdown",
      "id": "f04f753f",
      "metadata": {},
      "source": [
        "Fit the model to the training data"
      ]
    },
    {
      "cell_type": "code",
      "execution_count": null,
      "id": "ba3492ee",
      "metadata": {},
      "outputs": [],
      "source": [
        "model.fit(X_train, y_train) "
      ]
    },
    {
      "cell_type": "markdown",
      "id": "dd9cd24f",
      "metadata": {},
      "source": [
        "Print the model coefficients"
      ]
    },
    {
      "cell_type": "code",
      "execution_count": null,
      "id": "9df069d8",
      "metadata": {},
      "outputs": [],
      "source": [
        "print(dir(model))\n",
        "print(model.coef_)"
      ]
    },
    {
      "cell_type": "markdown",
      "id": "44ab6c5c",
      "metadata": {},
      "source": [
        "Use the model to predict the target for the test features"
      ]
    },
    {
      "cell_type": "code",
      "execution_count": null,
      "id": "17683b93",
      "metadata": {},
      "outputs": [],
      "source": [
        "predictions = model.predict(X_test) "
      ]
    },
    {
      "cell_type": "markdown",
      "id": "0453d709",
      "metadata": {},
      "source": [
        "model evaluation "
      ]
    },
    {
      "cell_type": "code",
      "execution_count": null,
      "id": "f1aed0bb",
      "metadata": {
        "lines_to_next_cell": 2
      },
      "outputs": [],
      "source": [
        "print('mean_squared_error : ', mean_squared_error(y_test, predictions)) \n",
        "print('mean_absolute_error : ', mean_absolute_error(y_test, predictions)) "
      ]
    },
    {
      "cell_type": "markdown",
      "id": "88813651",
      "metadata": {
        "lines_to_next_cell": 2
      },
      "source": [
        "Exercise:\n",
        "\n",
        "1. Try to replicate the statsmodels output using attributes in the model object\n",
        "2. Plot the residuals of the fit and comment on what you see"
      ]
    }
  ],
  "metadata": {},
  "nbformat": 4,
  "nbformat_minor": 5
}
