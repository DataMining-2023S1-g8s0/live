{
  "cells": [
    {
      "cell_type": "markdown",
      "id": "a2084784",
      "metadata": {},
      "source": [
        "Import modules and packages \n",
        "\n",
        "import pandas as pd \n",
        "import numpy as np \n",
        "import matplotlib.pyplot as plt \n",
        "import seaborn as sns \n",
        "from sklearn.model_selection import train_test_split \n",
        "from sklearn.linear_model import LinearRegression \n",
        "from sklearn.metrics import mean_squared_error, mean_absolute_error \n",
        "from sklearn import preprocessing "
      ]
    },
    {
      "cell_type": "markdown",
      "id": "57f33ed7",
      "metadata": {},
      "source": [
        "df = pd.read_csv('data/machine.csv')"
      ]
    },
    {
      "cell_type": "markdown",
      "id": "14826248",
      "metadata": {},
      "source": [
        "Exercise: Change the index to reference the Make and Model and remove them as possible features"
      ]
    },
    {
      "cell_type": "markdown",
      "id": "2cf5e380",
      "metadata": {},
      "source": [
        "Create feature matrix X and target vector y \n",
        "\n",
        "X = df.drop(['Make','Model','ActualIndex'],axis= 1) \n",
        "y = df['ActualIndex'] "
      ]
    },
    {
      "cell_type": "markdown",
      "id": "91ab77fe",
      "metadata": {},
      "source": [
        "Exercise: Investigate the dataset using EDA techniques"
      ]
    },
    {
      "cell_type": "markdown",
      "id": "8f03c2a4",
      "metadata": {},
      "source": [
        "Create train and test sets \n",
        "\n",
        "X_train, X_test, y_train, y_test = train_test_split(X, y, test_size=0.3, random_state=42) "
      ]
    },
    {
      "cell_type": "markdown",
      "id": "a3404dc4",
      "metadata": {},
      "source": [
        "Create a regression model \n",
        "\n",
        "model = LinearRegression()"
      ]
    },
    {
      "cell_type": "markdown",
      "id": "ca10daee",
      "metadata": {},
      "source": [
        "Fit the model to the training data\n",
        "\n",
        "model.fit(X_train, y_train) "
      ]
    },
    {
      "cell_type": "markdown",
      "id": "35908577",
      "metadata": {},
      "source": [
        "Print the model coefficients\n",
        "\n",
        "print(dir(model))\n",
        "print(model.coef_)"
      ]
    },
    {
      "cell_type": "markdown",
      "id": "3a788cc2",
      "metadata": {},
      "source": [
        "Use the model to predict the target for the test features\n",
        "\n",
        "predictions = model.predict(X_test) "
      ]
    },
    {
      "cell_type": "markdown",
      "id": "459df14a",
      "metadata": {
        "lines_to_next_cell": 2
      },
      "source": [
        "model evaluation \n",
        "\n",
        "print('mean_squared_error : ', mean_squared_error(y_test, predictions)) \n",
        "print('mean_absolute_error : ', mean_absolute_error(y_test, predictions)) "
      ]
    },
    {
      "cell_type": "markdown",
      "id": "fbe54f56",
      "metadata": {
        "lines_to_next_cell": 2
      },
      "source": [
        "Exercise:\n",
        "\n",
        "1. Try to replicate the statsmodels output using attributes in the model object\n",
        "2. Plot the residuals of the fit and comment on what you see"
      ]
    }
  ],
  "metadata": {},
  "nbformat": 4,
  "nbformat_minor": 5
}
