{
  "cells": [
    {
      "cell_type": "markdown",
      "id": "f7ee398e",
      "metadata": {},
      "source": [
        "# Computer Performance analysis\n",
        "\n",
        "Import modules and packages "
      ]
    },
    {
      "cell_type": "code",
      "execution_count": null,
      "id": "78ad42d7",
      "metadata": {},
      "outputs": [],
      "source": [
        "import pandas as pd \n",
        "import numpy as np \n",
        "import matplotlib.pyplot as plt \n",
        "import seaborn as sns \n",
        "from sklearn.model_selection import train_test_split \n",
        "from sklearn.linear_model import LinearRegression \n",
        "from sklearn.metrics import mean_squared_error, mean_absolute_error \n",
        "from sklearn import preprocessing "
      ]
    },
    {
      "cell_type": "markdown",
      "id": "097a35a2",
      "metadata": {},
      "source": [
        "Read the data"
      ]
    },
    {
      "cell_type": "code",
      "execution_count": null,
      "id": "60ebb786",
      "metadata": {},
      "outputs": [],
      "source": [
        "df = pd.read_csv('data/machine.csv')"
      ]
    },
    {
      "cell_type": "markdown",
      "id": "b0a1db28",
      "metadata": {},
      "source": [
        "Exercise: Change the index to reference the Make and Model and remove them as possible features"
      ]
    },
    {
      "cell_type": "markdown",
      "id": "fb886048",
      "metadata": {},
      "source": [
        "Create feature matrix X and target vector y "
      ]
    },
    {
      "cell_type": "code",
      "execution_count": null,
      "id": "b41e9545",
      "metadata": {},
      "outputs": [],
      "source": [
        "X = df.drop(['Make','Model','ActualIndex'],axis= 1) \n",
        "y = df['ActualIndex'] "
      ]
    },
    {
      "cell_type": "markdown",
      "id": "39758ba4",
      "metadata": {},
      "source": [
        "Exercise: Investigate the dataset using EDA techniques"
      ]
    },
    {
      "cell_type": "markdown",
      "id": "aafd8d24",
      "metadata": {},
      "source": [
        "Create train and test sets "
      ]
    },
    {
      "cell_type": "code",
      "execution_count": null,
      "id": "a0c02f36",
      "metadata": {},
      "outputs": [],
      "source": [
        "X_train, X_test, y_train, y_test = train_test_split(X, y, test_size=0.3, random_state=42) "
      ]
    },
    {
      "cell_type": "markdown",
      "id": "0b869259",
      "metadata": {},
      "source": [
        "Create a regression model "
      ]
    },
    {
      "cell_type": "code",
      "execution_count": null,
      "id": "3dd90374",
      "metadata": {},
      "outputs": [],
      "source": [
        "model = LinearRegression()"
      ]
    },
    {
      "cell_type": "markdown",
      "id": "f0ad859c",
      "metadata": {},
      "source": [
        "Fit the model to the training data"
      ]
    },
    {
      "cell_type": "code",
      "execution_count": null,
      "id": "2b3eec7c",
      "metadata": {},
      "outputs": [],
      "source": [
        "model.fit(X_train, y_train) "
      ]
    },
    {
      "cell_type": "markdown",
      "id": "742a3a43",
      "metadata": {},
      "source": [
        "Print the model coefficients"
      ]
    },
    {
      "cell_type": "code",
      "execution_count": null,
      "id": "02759afc",
      "metadata": {},
      "outputs": [],
      "source": [
        "print(dir(model))\n",
        "print(model.coef_)"
      ]
    },
    {
      "cell_type": "markdown",
      "id": "cb9712af",
      "metadata": {},
      "source": [
        "Use the model to predict the target for the test features"
      ]
    },
    {
      "cell_type": "code",
      "execution_count": null,
      "id": "23f444e6",
      "metadata": {},
      "outputs": [],
      "source": [
        "predictions = model.predict(X_test) "
      ]
    },
    {
      "cell_type": "markdown",
      "id": "a59acf23",
      "metadata": {},
      "source": [
        "model evaluation "
      ]
    },
    {
      "cell_type": "code",
      "execution_count": null,
      "id": "681ff0d9",
      "metadata": {
        "lines_to_next_cell": 2
      },
      "outputs": [],
      "source": [
        "print('mean_squared_error : ', mean_squared_error(y_test, predictions)) \n",
        "print('mean_absolute_error : ', mean_absolute_error(y_test, predictions)) "
      ]
    },
    {
      "cell_type": "markdown",
      "id": "bbb7ce98",
      "metadata": {
        "lines_to_next_cell": 2
      },
      "source": [
        "Exercise:\n",
        "\n",
        "1. Try to replicate the statsmodels output using attributes in the model object\n",
        "2. Plot the residuals of the fit and comment on what you see"
      ]
    }
  ],
  "metadata": {},
  "nbformat": 4,
  "nbformat_minor": 5
}
