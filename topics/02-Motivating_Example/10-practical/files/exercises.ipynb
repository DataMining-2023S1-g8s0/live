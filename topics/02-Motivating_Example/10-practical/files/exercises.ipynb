{
  "cells": [
    {
      "cell_type": "markdown",
      "id": "06b6b810",
      "metadata": {},
      "source": [
        "# Marks Dataset"
      ]
    },
    {
      "cell_type": "code",
      "execution_count": null,
      "id": "7210f91b",
      "metadata": {
        "tags": [
          "core"
        ]
      },
      "outputs": [],
      "source": [
        "import numpy as np\n",
        "import pandas as pd\n",
        "import matplotlib.pyplot as plt\n",
        "plt.style.use('seaborn-darkgrid')"
      ]
    },
    {
      "cell_type": "code",
      "execution_count": null,
      "id": "ebb66e1f",
      "metadata": {
        "tags": [
          "core-extra"
        ]
      },
      "outputs": [],
      "source": [
        "import seaborn as sns\n",
        "#import statsmodels.api as sm\n",
        "\n",
        "pd.set_option('display.max_columns', 500)\n",
        "pd.set_option('display.width', 1000)"
      ]
    },
    {
      "cell_type": "code",
      "execution_count": null,
      "id": "6c156adf",
      "metadata": {
        "tags": [
          "read_data_exercise"
        ]
      },
      "outputs": [],
      "source": [
        "df = pd.read_csv('data/marks.csv', sep=',')\n",
        "df['W_Mark'] = df.Weight * df.Mark // 100\n",
        "df['M_Mark'] = df.groupby(['Student','Module'])[ ['W_Mark'] ].transform(sum)\n",
        "print(df.shape)\n",
        "df"
      ]
    },
    {
      "cell_type": "markdown",
      "id": "b07e4228",
      "metadata": {
        "tags": [
          "c_average_mark_per_module"
        ]
      },
      "source": [
        "__1. What is the average mark per module?__\n",
        "\n",
        "_For panda versions before panda 2.0_\n",
        "\n",
        "- Group rows by 'Module'\n",
        "- Compute the mean of the numeric columms, per 'Module' value\n",
        "- Flatten the multi-index to 1 index using reset_index()\n",
        "- Drop the unwanted 'Weight' column\n",
        "\n",
        "Question is ambiguous, so all of Mark, Weighted Mark and Module Marks are shown."
      ]
    },
    {
      "cell_type": "code",
      "execution_count": null,
      "id": "a0d2f0f6",
      "metadata": {
        "tags": [
          "average_mark_per_module1"
        ]
      },
      "outputs": [],
      "source": [
        "df.groupby(['Module']).mean(numeric_only=True).reset_index().drop(['Weight'], axis=1)"
      ]
    },
    {
      "cell_type": "markdown",
      "id": "bf528a58",
      "metadata": {},
      "source": [
        "_For versions of panda from panda 2.0_\n",
        "\n",
        "- Group rows by 'Module'\n",
        "- Compute the mean of the numeric columms, per 'Module' value\n",
        "- Flatten the multi-index to 1 index using reset_index()"
      ]
    },
    {
      "cell_type": "code",
      "execution_count": null,
      "id": "35bb8c3d",
      "metadata": {
        "tags": [
          "average_mark_per_module2"
        ]
      },
      "outputs": [],
      "source": [
        "df.groupby(['Module']).agg({\n",
        "  'Mark': 'mean',\n",
        "  'W_Mark': 'mean',\n",
        "  'M_Mark': 'mean'\n",
        "}).reset_index()"
      ]
    },
    {
      "cell_type": "markdown",
      "id": "0917c8fb",
      "metadata": {},
      "source": [
        "Small refinement - rename the computed columns to clarify what aggreation function was used.\n",
        "\n",
        "Apart from naming the computed aggregate columns, the data operations are the same."
      ]
    },
    {
      "cell_type": "code",
      "execution_count": null,
      "id": "f54a6c85",
      "metadata": {
        "tags": [
          "average_mark_per_module2a"
        ]
      },
      "outputs": [],
      "source": [
        "df.groupby(['Module']).agg(\n",
        "  avgMark=(\"Mark\", \"mean\"),\n",
        "  avgW_Mark=(\"W_Mark\", \"mean\"),\n",
        "  avgM_Mark=(\"M_Mark\", \"mean\")\n",
        ").reset_index()"
      ]
    },
    {
      "cell_type": "markdown",
      "id": "ccd955c2",
      "metadata": {
        "tags": [
          "c_average_mark_per_student"
        ]
      },
      "source": [
        "__2. What is the average mark per student?__\n",
        "\n",
        "- Group rows by 'Student'\n",
        "- Compute the mean of the numeric columms, per 'Student' value\n",
        "- Flatten the multi-index to 1 index using reset_index()\n",
        "\n",
        "Question is ambiguous, so Mark, Weighted Mark and Module Marks are shown.\n",
        "\n",
        "Note that the code is almost identical to the code cell above, just swapping `'Module'` for `'Student'`."
      ]
    },
    {
      "cell_type": "code",
      "execution_count": null,
      "id": "241e6427",
      "metadata": {
        "tags": [
          "average_mark_per_student2a"
        ]
      },
      "outputs": [],
      "source": [
        "df.groupby(['Student']).agg(\n",
        "  avgMark=(\"Mark\", \"mean\"),\n",
        "  avgW_Mark=(\"W_Mark\", \"mean\"),\n",
        "  avgM_Mark=(\"M_Mark\", \"mean\")\n",
        ").reset_index()"
      ]
    },
    {
      "cell_type": "markdown",
      "id": "e8c190b6",
      "metadata": {
        "tags": [
          "c_top_2_modules_per_student"
        ]
      },
      "source": [
        "__3. What are the top two modules per student?__\n",
        "\n",
        "The technique I showed in class (using `nlargest(2)`) worked in this case because duplicates did not affect the result.\n",
        "\n",
        "However, (a variant of) the following code is needed for the next case, so the approach is used here too.\n",
        "\n",
        "- Select the relevant columns in the dataframe (the order is significant)\n",
        "- Drop duplicates (because `Weight` is not significant, but its removal means there are duplicates in the reduced dataframe)\n",
        "- Sort By `Student` (increasing) and `M_Mark` (decreasing), so the result is almost there\n",
        "- Group By `Student` (because we are looking for the Top 2 _per `Student`_)\n",
        "- Apply `head(2)` (as the aggregation function) to return just the first 2 rows in each group of `Student`"
      ]
    },
    {
      "cell_type": "code",
      "execution_count": null,
      "id": "9e13684b",
      "metadata": {
        "tags": [
          "top_2_modules_per_student"
        ]
      },
      "outputs": [],
      "source": [
        "df[['Student', 'Module', 'M_Mark']].drop_duplicates().sort_values(['Student','M_Mark'],ascending = [True,False]).groupby('Student').head(2)"
      ]
    },
    {
      "cell_type": "markdown",
      "id": "a044b84a",
      "metadata": {
        "tags": [
          "c_top_2_students_per_module"
        ]
      },
      "source": [
        "__4. What are the top two students per module?__\n",
        "\n",
        "- Select the relevant columns in the dataframe (the order is significant)\n",
        "- Drop duplicates (because `Weight` is not significant, but its removal means there are duplicates in the reduced dataframe)\n",
        "- Sort By `Module` (increasing) and `M_Mark` (decreasing), so the result is almost there\n",
        "- Group By `Module` (because we are looking for the Top 2 _per `Module`_)\n",
        "- Apply `head(2)` (as the aggregation function) to return just the first 2 rows in each group of `Module`"
      ]
    },
    {
      "cell_type": "code",
      "execution_count": null,
      "id": "3b005c07",
      "metadata": {
        "tags": [
          "top_2_students_per_module"
        ]
      },
      "outputs": [],
      "source": [
        "df[['Module', 'Student', 'M_Mark']].drop_duplicates().sort_values(['Module','M_Mark'],ascending = [True,False],).groupby('Module').head(2)"
      ]
    },
    {
      "cell_type": "markdown",
      "id": "d147e343",
      "metadata": {
        "tags": [
          "c_compare_AssessType"
        ]
      },
      "source": [
        "__5. On average, do students achieve higher marks in exams than in practical (i.e., non-exam) assessments?__\n",
        "\n",
        "- First we add an AssessType column that distinguishes between Exam and Practical assessments"
      ]
    },
    {
      "cell_type": "code",
      "execution_count": null,
      "id": "20ee3447",
      "metadata": {
        "tags": [
          "populate_AssessType"
        ]
      },
      "outputs": [],
      "source": [
        "df['AssessType'] = np.where(df['Deliverable'] == 'Exam', 'Exam', 'Practical')\n",
        "df"
      ]
    },
    {
      "cell_type": "markdown",
      "id": "a85884dc",
      "metadata": {},
      "source": [
        "Note that we have a suitable grouping column (`AssessType`), we can apply the aggregate function to the only remaining column (`Mark`) in the projected dataframe."
      ]
    },
    {
      "cell_type": "code",
      "execution_count": null,
      "id": "e27f45ac",
      "metadata": {
        "tags": [
          "compare_AssessType"
        ]
      },
      "outputs": [],
      "source": [
        "df[['AssessType','Mark']].groupby('AssessType').mean(numeric_only=True).reset_index()"
      ]
    },
    {
      "cell_type": "markdown",
      "id": "ce5411a2",
      "metadata": {
        "title": "tags[\"c_populate_Assessment_review\"]"
      },
      "source": [
        "Note that this is just the simplest interpretation. A more complex interpretation would use weighting to estimate whether Exams or Practicals are contributing relatively more to overall marks."
      ]
    },
    {
      "cell_type": "code",
      "execution_count": null,
      "id": "303683cb",
      "metadata": {},
      "outputs": [],
      "source": []
    }
  ],
  "metadata": {
    "kernelspec": {
      "display_name": "Python 3 (ipykernel)",
      "language": "python",
      "name": "python3"
    }
  },
  "nbformat": 4,
  "nbformat_minor": 5
}
