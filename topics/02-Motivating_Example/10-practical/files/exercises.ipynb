{
 "cells": [
  {
   "cell_type": "markdown",
   "id": "a64cc58e",
   "metadata": {},
   "source": [
    "# Marks Dataset"
   ]
  },
  {
   "cell_type": "code",
   "execution_count": null,
   "id": "62e6f23e",
   "metadata": {
    "tags": [
     "core"
    ]
   },
   "outputs": [],
   "source": [
    "import numpy as np\n",
    "import pandas as pd\n",
    "import matplotlib.pyplot as plt\n",
    "plt.style.use('seaborn-darkgrid')"
   ]
  },
  {
   "cell_type": "code",
   "execution_count": null,
   "id": "efc839b0",
   "metadata": {
    "tags": [
     "core-extra"
    ]
   },
   "outputs": [],
   "source": [
    "import seaborn as sns\n",
    "#import statsmodels.api as sm\n",
    "\n",
    "pd.set_option('display.max_columns', 500)\n",
    "pd.set_option('display.width', 1000)"
   ]
  },
  {
   "cell_type": "code",
   "execution_count": null,
   "id": "c33b59a5",
   "metadata": {
    "tags": [
     "read_data_exercise"
    ]
   },
   "outputs": [],
   "source": [
    "df = pd.read_csv('data/marks.csv', sep=',')\n",
    "df['W_Mark'] = df.Weight * df.Mark // 100\n",
    "df['M_Mark'] = df.groupby(['Student','Module'])[ ['W_Mark'] ].transform(sum)\n",
    "print(df.shape)\n",
    "df"
   ]
  },
  {
   "cell_type": "markdown",
   "id": "e6f6f5d1",
   "metadata": {
    "tags": [
     "c_average_mark_per_module"
    ]
   },
   "source": [
    "__1. What is the average mark per module?__\n",
    "\n",
    "- Group rows by 'Module'\n",
    "- Compute the mean of the numeric columms, per 'Module' value\n",
    "- Flatten the multi-index to 1 index using reset_index()\n",
    "- Drop the unwanted 'Weight' column\n",
    "\n",
    "Question is ambiguous, so Mark, Weighted Mark and Module Marks are shown."
   ]
  },
  {
   "cell_type": "code",
   "execution_count": null,
   "id": "0254e9d7",
   "metadata": {
    "tags": [
     "average_mark_per_module"
    ]
   },
   "outputs": [],
   "source": [
    "df.groupby(['Module']).mean().reset_index().drop(['Weight'], axis=1)"
   ]
  },
  {
   "cell_type": "markdown",
   "id": "d2b632ac",
   "metadata": {
    "tags": [
     "c_average_mark_per_student"
    ]
   },
   "source": [
    "__2. What is the average mark per student?__\n",
    "\n",
    "- Group rows by 'Student'\n",
    "- Compute the mean of the numeric columms, per 'Student' value\n",
    "- Flatten the multi-index to 1 index using reset_index()\n",
    "- Drop the unwanted 'Weight' column\n",
    "\n",
    "Question is ambiguous, so Mark, Weighted Mark and Module Marks are shown."
   ]
  },
  {
   "cell_type": "code",
   "execution_count": null,
   "id": "38c2713b",
   "metadata": {
    "tags": [
     "average_mark_per_student"
    ]
   },
   "outputs": [],
   "source": [
    "df.groupby(['Student']).mean().reset_index().drop(['Weight'], axis=1)"
   ]
  },
  {
   "cell_type": "markdown",
   "id": "f12932d1",
   "metadata": {
    "tags": [
     "c_top_2_modules_per_student"
    ]
   },
   "source": [
    "__3. What are the top two modules per student?__\n",
    "\n",
    "The technique I showed in class (using `nlargest(2)`) worked in this case because duplicates did not affect the result.\n",
    "\n",
    "However, (a variant of) the following code is needed for the next case, so the approach is used here too.\n",
    "\n",
    "- Select the relevant columns in the dataframe (the order is significant)\n",
    "- Drop duplicates (because `Weight` is not significant, but its removal means there are duplicates in the reduced dataframe)\n",
    "- Sort By `Student` (increasing) and `M_Mark` (decreasing), so the result is almost there\n",
    "- Group By `Student` (because we are looking for the Top 2 _per `Student`_)\n",
    "- Apply `head(2)` (as the aggregation function) to return just the first 2 rows in each group of `Student`"
   ]
  },
  {
   "cell_type": "code",
   "execution_count": null,
   "id": "e2446f05",
   "metadata": {
    "tags": [
     "top_2_modules_per_student"
    ]
   },
   "outputs": [],
   "source": [
    "df[['Student', 'Module', 'M_Mark']].drop_duplicates().sort_values(['Student','M_Mark'],ascending = [True,False]).groupby('Student').head(2)"
   ]
  },
  {
   "cell_type": "markdown",
   "id": "4a4067b6",
   "metadata": {
    "tags": [
     "c_top_2_students_per_module"
    ]
   },
   "source": [
    "__4. What are the top two students per module?__\n",
    "\n",
    "- Select the relevant columns in the dataframe (the order is significant)\n",
    "- Drop duplicates (because `Weight` is not significant, but its removal means there are duplicates in the reduced dataframe)\n",
    "- Sort By `Module` (increasing) and `M_Mark` (decreasing), so the result is almost there\n",
    "- Group By `Module` (because we are looking for the Top 2 _per `Module`_)\n",
    "- Apply `head(2)` (as the aggregation function) to return just the first 2 rows in each group of `Module`"
   ]
  },
  {
   "cell_type": "code",
   "execution_count": null,
   "id": "dfef7c44",
   "metadata": {
    "tags": [
     "top_2_students_per_module"
    ]
   },
   "outputs": [],
   "source": [
    "df[['Module', 'Student', 'M_Mark']].drop_duplicates().sort_values(['Module','M_Mark'],ascending = [True,False],).groupby('Module').head(2)"
   ]
  },
  {
   "cell_type": "markdown",
   "id": "fee410fc",
   "metadata": {
    "tags": [
     "c_compare_AssessType"
    ]
   },
   "source": [
    "__5. On average, do students achieve higher marks in exams than in practical (i.e., non-exam) assessments?__\n",
    "\n",
    "- First we add an AssessType column that distinguishes between Exam and Practical assessments"
   ]
  },
  {
   "cell_type": "code",
   "execution_count": null,
   "id": "a6222434",
   "metadata": {
    "tags": [
     "populate_AssessType"
    ]
   },
   "outputs": [],
   "source": [
    "df['AssessType'] = np.where(df['Deliverable'] == 'Exam', 'Exam', 'Practical')\n",
    "df"
   ]
  },
  {
   "cell_type": "code",
   "execution_count": null,
   "id": "1f5c877a",
   "metadata": {
    "tags": [
     "compare_AssessType"
    ]
   },
   "outputs": [],
   "source": [
    "df[['AssessType','Mark']].groupby('AssessType').mean().reset_index()"
   ]
  },
  {
   "cell_type": "markdown",
   "id": "a6def5eb",
   "metadata": {
    "title": "tags[\"c_populate_Assessment_review\"]"
   },
   "source": [
    "Note that this is just the simplest interpretation. A more complex interpretation would use weighting to estimate whether Exams or Practicals are contributing relatively more to overall marks."
   ]
  },
  {
   "cell_type": "code",
   "execution_count": null,
   "id": "f27fba11-2873-4a50-b839-77ec3b97446a",
   "metadata": {},
   "outputs": [],
   "source": []
  }
 ],
 "metadata": {
  "jupytext": {
   "formats": "ipynb,py:percent"
  },
  "kernelspec": {
   "display_name": "Python 3 (ipykernel)",
   "language": "python",
   "name": "python3"
  },
  "language_info": {
   "codemirror_mode": {
    "name": "ipython",
    "version": 3
   },
   "file_extension": ".py",
   "mimetype": "text/x-python",
   "name": "python",
   "nbconvert_exporter": "python",
   "pygments_lexer": "ipython3",
   "version": "3.9.7"
  }
 },
 "nbformat": 4,
 "nbformat_minor": 5
}
