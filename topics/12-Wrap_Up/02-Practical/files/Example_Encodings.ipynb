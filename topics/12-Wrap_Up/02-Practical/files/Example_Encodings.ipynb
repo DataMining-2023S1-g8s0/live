{
  "cells": [
    {
      "cell_type": "markdown",
      "id": "d1414350",
      "metadata": {},
      "source": [
        "Read generated \"datecat.csv\" data and encode the following columns:\n",
        " Features\n",
        "   hour - for cyclical encoding\n",
        "   colour - for dummy encoding\n",
        "   size - for ordinal encoding\n",
        " Target\n",
        "   move - for label encoding"
      ]
    },
    {
      "cell_type": "markdown",
      "id": "0aca8c99",
      "metadata": {
        "tags": [
          "heading"
        ]
      },
      "source": [
        "# Investigating category encodings\n",
        "\n",
        "This notebook shows how pandas and scikit-learn can be used to encode\n",
        "categorical features, so that they can be used in scikit-learn based predictors.\n",
        "\n",
        "Generally, the `pandas.get_dummies()` is the easiest way to get\n",
        "encode nominal data in one-hot-encoded (dummy) form.\n",
        "However, scikit-learn is more flexible and offers a much broader range of\n",
        "encoders.\n",
        "\n",
        "At the end of this notebook, there is an example _pipeline_ showing how\n",
        "encoding and prediction can be integrated. Pipelines and similar more\n",
        "advanced use of python and scikit-learn will be covered more fully in\n",
        "Data Mining 2.\n",
        "\n",
        "NB: usage of pipelines _is not required_ for CA3."
      ]
    },
    {
      "cell_type": "markdown",
      "id": "e4991b41",
      "metadata": {},
      "source": [
        "Import libraries"
      ]
    },
    {
      "cell_type": "code",
      "execution_count": null,
      "id": "996c0ef9",
      "metadata": {
        "tags": [
          "imports"
        ]
      },
      "outputs": [],
      "source": [
        "import numpy as np\n",
        "import pandas as pd\n",
        "import sklearn.preprocessing as skp\n",
        "import sklearn.compose as skc\n",
        "import sys"
      ]
    },
    {
      "cell_type": "markdown",
      "id": "22c880e5",
      "metadata": {},
      "source": [
        "Read some example data with a variety of column types"
      ]
    },
    {
      "cell_type": "code",
      "execution_count": null,
      "id": "102f159f",
      "metadata": {
        "lines_to_next_cell": 1,
        "tags": [
          "loadData"
        ]
      },
      "outputs": [],
      "source": [
        "df = pd.read_csv('data/datecat.csv', index_col=0)\n",
        "df.head()\n",
        "features = ['hour', 'colour', 'size']\n",
        "target = ['move']\n",
        "X = df[features].copy()\n",
        "y = df[target].copy()"
      ]
    },
    {
      "cell_type": "markdown",
      "id": "44294ada",
      "metadata": {},
      "source": [
        "Define function, based on\n",
        "https://www.kaggle.com/code/avanwyk/encoding-cyclical-features-for-deep-learning,\n",
        "for cyclic encoding"
      ]
    },
    {
      "cell_type": "code",
      "execution_count": null,
      "id": "0a4f2b85",
      "metadata": {
        "lines_to_next_cell": 1,
        "tags": [
          "def_cyclicEncode"
        ]
      },
      "outputs": [],
      "source": [
        "def cyclicEncode(inDf, colName, period):\n",
        "  encoded = {\n",
        "    colName+'_cos' : np.cos(2 * np.pi * inDf[colName]/period),\n",
        "    colName+'_sin' : np.sin(2 * np.pi * inDf[colName]/period)\n",
        "    }\n",
        "  outDf = pd.DataFrame(encoded, index=inDf.index)\n",
        "  return outDf"
      ]
    },
    {
      "cell_type": "markdown",
      "id": "dec57fcd",
      "metadata": {},
      "source": [
        "Apply cyclicEncode() to the hour data"
      ]
    },
    {
      "cell_type": "code",
      "execution_count": null,
      "id": "05a0f6d5",
      "metadata": {
        "tags": [
          "use_cyclicEncode"
        ]
      },
      "outputs": [],
      "source": [
        "encodedHour = cyclicEncode(df, 'hour', 24)\n",
        "encodedHour.head()"
      ]
    },
    {
      "cell_type": "markdown",
      "id": "de75c598",
      "metadata": {},
      "source": [
        "Derive _full_ set of (0,1)-valued dummy (effectively, one-hot-encoded) variables for each value of Colour"
      ]
    },
    {
      "cell_type": "code",
      "execution_count": null,
      "id": "157eafac",
      "metadata": {
        "tags": [
          "dfColourDummiesPd"
        ]
      },
      "outputs": [],
      "source": [
        "colName = 'colour'\n",
        "dfColourDummies = pd.get_dummies(df[colName],\\\n",
        "        prefix=colName,\\\n",
        "        dtype=int)\n",
        "dfColourDummies.head()"
      ]
    },
    {
      "cell_type": "markdown",
      "id": "8768c792",
      "metadata": {},
      "source": [
        "Derive _minimal_ set of (0,1)-valued indicator variables from Colour categorical variable"
      ]
    },
    {
      "cell_type": "code",
      "execution_count": null,
      "id": "e1f8bf5a",
      "metadata": {
        "tags": [
          "dfColourIndPd"
        ]
      },
      "outputs": [],
      "source": [
        "colName = 'colour'\n",
        "dfColourInd = pd.get_dummies(df[colName],\\\n",
        "        prefix=colName,\\\n",
        "        drop_first=True,\\\n",
        "        dtype=int)\\\n",
        "        .rename(columns={\\\n",
        "        colName+\"_Green\": \"IsGreen\",\\\n",
        "        colName+\"_Blue\": \"IsBlue\"\\\n",
        "        })\n",
        "dfColourInd.head()"
      ]
    },
    {
      "cell_type": "markdown",
      "id": "f24d175e",
      "metadata": {
        "tags": [
          "sklearnForEncoding"
        ]
      },
      "source": [
        "As an alternative to pandas for encoding to Indicators, you can use sklearn's OneHotEncoder\n",
        "It is perhaps a bit more complex, but you can reverse the transformation easily"
      ]
    },
    {
      "cell_type": "code",
      "execution_count": null,
      "id": "7a5487ed",
      "metadata": {
        "tags": [
          "dfOheColoursSk"
        ]
      },
      "outputs": [],
      "source": [
        "# Fit (=derive) the one-hot-encoder for the colour column\n",
        "colName = 'colour'\n",
        "oheEnc = skp.OneHotEncoder(dtype=int) # dummy values are ints\n",
        "oheEnc.fit(df[[colName]]) # \"learn\" the mapping to dummies\n",
        "oheColours = oheEnc.transform(df[[colName]]) # Apply the mapping\n",
        "dfOheColoursSk = pd.DataFrame(oheColours.toarray(),\\\n",
        "        columns=oheEnc.categories_,\\\n",
        "        index=df.index)\n",
        "dfOheColoursSk.head()"
      ]
    },
    {
      "cell_type": "code",
      "execution_count": null,
      "id": "226da69a",
      "metadata": {
        "tags": [
          "dfOheColours1Sk"
        ]
      },
      "outputs": [],
      "source": [
        "# Fit (=derive) the one-hot-encoder for the colour column,\n",
        "# dropping the first category to avoid the \"dummy trap\"\n",
        "colName = 'colour'\n",
        "oheEnc1 = skp.OneHotEncoder(dtype=int,\\\n",
        "        drop='first') # drop first category to avoid dummy trap\n",
        "oheEnc1.fit(df[[colName]]) # \"learn\" the mapping to dummies\n",
        "oheColours1 = oheEnc1.transform(df[[colName]]) # Apply the mapping\n",
        "dfOheColours1Sk = pd.DataFrame(oheColours1.toarray(),\\\n",
        "       columns=oheEnc1.categories_[0][1:],\\\n",
        "       index=df.index)\n",
        "dfOheColours1Sk.head()"
      ]
    },
    {
      "cell_type": "code",
      "execution_count": null,
      "id": "20121952",
      "metadata": {
        "tags": [
          "dfSizeOrdinal"
        ]
      },
      "outputs": [],
      "source": [
        "# Derive integers in the right order for the ordinal category\n",
        "colName = 'size'\n",
        "categories=[['small','medium','large']]\n",
        "ordinalEnc = skp.OrdinalEncoder(categories=categories, dtype=int)\n",
        "sizeArr = df[colName].values.reshape(-1,1)\n",
        "ordinalEnc.fit(sizeArr)\n",
        "ordName = 'ord_' + colName\n",
        "dfSizeOrdinal = pd.DataFrame(ordinalEnc.transform(sizeArr),\\\n",
        "        index=df.index, columns=[ordName])\n",
        "dfSizeOrdinal.head()"
      ]
    },
    {
      "cell_type": "code",
      "execution_count": null,
      "id": "51f48e63",
      "metadata": {
        "tags": [
          "dfSizeOrdinalRoundTrip"
        ]
      },
      "outputs": [],
      "source": [
        "# Complete the round trip from ordinal to integer and back\n",
        "sizeOrdinalArr = dfSizeOrdinal.values\n",
        "dfSizeOrdinalRoundTrip = pd.DataFrame(ordinalEnc.inverse_transform(sizeOrdinalArr),\\\n",
        "        index=df.index, columns=[colName])\n",
        "dfSizeOrdinalRoundTrip.head()"
      ]
    },
    {
      "cell_type": "code",
      "execution_count": null,
      "id": "522a2a9f",
      "metadata": {
        "tags": [
          "LabelEnc"
        ]
      },
      "outputs": [],
      "source": [
        "# Apply label encoder to the target.\n",
        "# NB: this encoder is intended for target columns. DO NOT USE on features!!!!\n",
        "colName = 'move'\n",
        "le = skp.LabelEncoder()\n",
        "# See https://stackoverflow.com/a/36120015/1988855\n",
        "le.fit(y.values.ravel())\n",
        "classes = list(le.classes_)\n",
        "#print(classes)\n",
        "yE = le.transform(y.values.ravel())\n",
        "yE"
      ]
    },
    {
      "cell_type": "code",
      "execution_count": null,
      "id": "e8c6208a",
      "metadata": {
        "tags": [
          "LabelEnc_inverse"
        ]
      },
      "outputs": [],
      "source": [
        "# We can invert the tranformation, to go back from the label-encoded\n",
        "# target to its original form.\n",
        "yRoundTrip = list(le.inverse_transform(yE))\n",
        "yRoundTrip"
      ]
    },
    {
      "cell_type": "markdown",
      "id": "932fffaa",
      "metadata": {
        "tags": [
          "Other_options"
        ]
      },
      "source": [
        "Category encoding is a major topic in machine learning. Indeed, an\n",
        "effective choice of encoding can often improve the quality of\n",
        "a predictive model.\n",
        "scikit-learn provides many options but even more are provided in\n",
        "a scikit-learn contributed package: `category_encoders`.\n",
        "This can be installed using\n",
        "  `conda install -c conda-forge category_encoders`\n",
        "\n",
        "In many cases, the API is much simpler than \"vanilla\" `sklearn.preprocessing`.\n",
        "It also offers alternatives to one-hot-encoding when a variable has\n",
        "a large number, say, more than 10 categories. In such cases, an alternative\n",
        "encoding such as _binary encoding_ is an attractive approach.\n",
        "One-hot-encoding generates $O(n)$ columns, where $n$ is the number of\n",
        "categories - for binary encoding, the number of columns generated is $O(\\log n)$.\n",
        "\n",
        "See [Guide to Encoding Categorical Values in Python](https://pbpython.com/categorical-encoding.html) for general advice on\n",
        "category encoding, and [How to Deal with Categorical Data for Machine Learning](https://www.kdnuggets.com/2021/05/deal-with-categorical-data-machine-learning.html)\n",
        "for more examples of the use of `category_encoders`, especially binary encoding."
      ]
    },
    {
      "cell_type": "code",
      "execution_count": null,
      "id": "54c76342",
      "metadata": {
        "tags": [
          "setupForPipeline"
        ]
      },
      "outputs": [],
      "source": [
        "# Setup imports and prepare for column transformer in pipeline\n",
        "from sklearn.compose import make_column_transformer\n",
        "from sklearn.neighbors import KNeighborsClassifier\n",
        "from sklearn.pipeline import make_pipeline\n",
        "from sklearn.model_selection import cross_val_score\n",
        "\n",
        "cyclicFeatures = ['hour']\n",
        "nominalFeatures = ['colour']\n",
        "ordinalFeatures = ['size']"
      ]
    },
    {
      "cell_type": "code",
      "execution_count": null,
      "id": "63d507c9",
      "metadata": {
        "tags": [
          "makeColumnTransformer"
        ]
      },
      "outputs": [],
      "source": [
        "# Strictly speaking, hour should be transformed to 2 cyclic variables,\n",
        "# need to generalise the encoder above to do this in a column transformation\n",
        "column_trans = make_column_transformer(\\\n",
        "        (skp.OneHotEncoder(),nominalFeatures),\\\n",
        "        (skp.OrdinalEncoder(), ordinalFeatures),\\\n",
        "        remainder='passthrough')"
      ]
    },
    {
      "cell_type": "code",
      "execution_count": null,
      "id": "1d7cd902",
      "metadata": {
        "tags": [
          "makePipeline"
        ]
      },
      "outputs": [],
      "source": [
        "# The pipeline applies the column transformations, and then passes them\n",
        "# to the KNN classifier.\n",
        "knn = KNeighborsClassifier()\n",
        "pipe = make_pipeline(column_trans, knn)"
      ]
    },
    {
      "cell_type": "code",
      "execution_count": null,
      "id": "8cd47dd1",
      "metadata": {
        "tags": [
          "useCVonPipeline"
        ]
      },
      "outputs": [],
      "source": [
        "# We now plug in the data (X, yE) - note that the label-encoded target is used.\n",
        "# The transformer-classifier pipeline is run for each CV split and the accuracy\n",
        "# results are returned as scores.\n",
        "# Since the data was generated randomly, the scores are not great, but it is clear\n",
        "# how easy it is to integrate feature encoding with prediction.\n",
        "# Data Mining 2 will include more advanced topics like these.\n",
        "training_accuracy = cross_val_score(pipe, X, yE, cv=5, scoring='accuracy')\n",
        "training_accuracy"
      ]
    }
  ],
  "metadata": {},
  "nbformat": 4,
  "nbformat_minor": 5
}
